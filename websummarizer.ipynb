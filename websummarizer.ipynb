{
 "cells": [
  {
   "cell_type": "code",
   "execution_count": 16,
   "id": "d936da07-fe47-4d7c-b8aa-1ad9b0f9c2f2",
   "metadata": {},
   "outputs": [
    {
     "name": "stderr",
     "output_type": "stream",
     "text": [
      "[nltk_data] Downloading package punkt to\n",
      "[nltk_data]     C:\\Users\\prave\\AppData\\Roaming\\nltk_data...\n",
      "[nltk_data]   Unzipping tokenizers\\punkt.zip.\n"
     ]
    },
    {
     "data": {
      "text/plain": [
       "True"
      ]
     },
     "execution_count": 16,
     "metadata": {},
     "output_type": "execute_result"
    }
   ],
   "source": [
    "import requests\n",
    "from bs4 import BeautifulSoup\n",
    "from sumy.parsers.plaintext import PlaintextParser\n",
    "from sumy.nlp.tokenizers import Tokenizer\n",
    "from sumy.summarizers.lsa import LsaSummarizer\n",
    "import nltk\n",
    "\n",
    "nltk.download('punkt')"
   ]
  },
  {
   "cell_type": "code",
   "execution_count": 19,
   "id": "4e6ae728-2afe-4c46-b476-e28c552a2c80",
   "metadata": {},
   "outputs": [],
   "source": [
    "def fetch_webpage_content(url):\n",
    "    response = requests.get(url)\n",
    "    response.raise_for_status()\n",
    "    return response.text\n",
    "\n",
    "def parse_html_content(html_content):\n",
    "    soup = BeautifulSoup(html_content, 'html.parser')\n",
    "    text_elements = soup.find_all(['p', 'h1', 'h2', 'h3', 'li'])\n",
    "    text = ' '.join(element.get_text() for element in text_elements)\n",
    "    return text\n",
    "\n",
    "def summarize_text(text, sentences_count=5):\n",
    "    parser = PlaintextParser.from_string(text, Tokenizer(\"english\"))\n",
    "    summarizer = LsaSummarizer()\n",
    "    summary = summarizer(parser.document, sentences_count)\n",
    "    return ' '.join(str(sentence) for sentence in summary)\n",
    "\n",
    "def summarize_webpage(url, sentences_count=5):\n",
    "    html_content = fetch_webpage_content(url)\n",
    "    text_content = parse_html_content(html_content)\n",
    "    summary = summarize_text(text_content, sentences_count)\n",
    "    return summary\n",
    "\n",
    "# Example usage\n"
   ]
  },
  {
   "cell_type": "code",
   "execution_count": 21,
   "id": "6b8f02e2-f815-46d0-bc8c-3d0465cb3b43",
   "metadata": {},
   "outputs": [
    {
     "data": {
      "text/plain": [
       "'Once that’s done, you have your “AI model” to generate new responses based on everything learned from the training data. In technical terms, attention mechanisms calculate weights, determining how much focus is put on each part of the input data. This process helps the model build a deep understanding of how words are related to each other and what actually makes sense. If you want to learn more about “tokens” and “embeddings (the special numbers as I refer them),” check out my other article below. I intentionally did not touch upon the exact mathematical concepts or equations used in each layer to avoid unnecessary complications.'"
      ]
     },
     "execution_count": 21,
     "metadata": {},
     "output_type": "execute_result"
    }
   ],
   "source": [
    "url = \"https://medium.com/the-research-nest/explained-transformers-for-everyone-af01cbe600c5\"\n",
    "summary = summarize_webpage(url)\n",
    "summary"
   ]
  },
  {
   "cell_type": "code",
   "execution_count": null,
   "id": "874103a6-c8c5-421a-a6ed-1194ca3d1ecd",
   "metadata": {},
   "outputs": [],
   "source": [
    "from transformers import pipeline\n",
    "\n",
    "# Use a pipeline as a high-level helper\n",
    "from transformers import pipeline\n",
    "\n",
    "pipe = pipeline(\"summarization\", model=\"facebook/bart-large-cnn\")"
   ]
  },
  {
   "cell_type": "code",
   "execution_count": null,
   "id": "bb09960b-0d96-4812-b2eb-0543965e44f1",
   "metadata": {},
   "outputs": [],
   "source": [
    "# Load model directly\n",
    "from transformers import AutoTokenizer, AutoModelForSeq2SeqLM\n",
    "\n",
    "tokenizer = AutoTokenizer.from_pretrained(\"facebook/bart-large-cnn\")\n",
    "model = AutoModelForSeq2SeqLM.from_pretrained(\"facebook/bart-large-cnn\")"
   ]
  },
  {
   "cell_type": "code",
   "execution_count": null,
   "id": "873708b7-adca-495e-ab54-3ff7f0ceabe9",
   "metadata": {},
   "outputs": [],
   "source": [
    "url = \"https://medium.com/the-research-nest/explained-transformers-for-everyone-af01cbe600c5\"\n",
    "summary = summarize_webpage(url)\n",
    "summary"
   ]
  },
  {
   "cell_type": "code",
   "execution_count": null,
   "id": "77c3942e-3669-414b-a5b3-57c56be43f76",
   "metadata": {},
   "outputs": [],
   "source": []
  },
  {
   "cell_type": "code",
   "execution_count": null,
   "id": "b0138d4e-4397-46ef-ba7d-849387734a69",
   "metadata": {},
   "outputs": [],
   "source": []
  },
  {
   "cell_type": "code",
   "execution_count": null,
   "id": "d3ef1136-6560-487d-963d-e48eb90c3ded",
   "metadata": {},
   "outputs": [],
   "source": []
  },
  {
   "cell_type": "code",
   "execution_count": null,
   "id": "e221bf43-cd53-4874-9247-20afe5161843",
   "metadata": {},
   "outputs": [],
   "source": []
  }
 ],
 "metadata": {
  "kernelspec": {
   "display_name": "Python 3 (ipykernel)",
   "language": "python",
   "name": "python3"
  },
  "language_info": {
   "codemirror_mode": {
    "name": "ipython",
    "version": 3
   },
   "file_extension": ".py",
   "mimetype": "text/x-python",
   "name": "python",
   "nbconvert_exporter": "python",
   "pygments_lexer": "ipython3",
   "version": "3.12.3"
  }
 },
 "nbformat": 4,
 "nbformat_minor": 5
}
